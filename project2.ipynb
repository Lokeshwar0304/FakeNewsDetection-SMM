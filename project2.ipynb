{
 "cells": [
  {
   "cell_type": "code",
   "execution_count": 3,
   "metadata": {},
   "outputs": [
    {
     "ename": "ModuleNotFoundError",
     "evalue": "No module named 'nltk'",
     "output_type": "error",
     "traceback": [
      "\u001b[1;31m---------------------------------------------------------------------------\u001b[0m",
      "\u001b[1;31mModuleNotFoundError\u001b[0m                       Traceback (most recent call last)",
      "\u001b[1;32m<ipython-input-3-0d874540c480>\u001b[0m in \u001b[0;36m<module>\u001b[1;34m\u001b[0m\n\u001b[0;32m      2\u001b[0m \u001b[1;32mimport\u001b[0m \u001b[0mpandas\u001b[0m \u001b[1;32mas\u001b[0m \u001b[0mpd\u001b[0m\u001b[1;33m\u001b[0m\u001b[0m\n\u001b[0;32m      3\u001b[0m \u001b[1;33m\u001b[0m\u001b[0m\n\u001b[1;32m----> 4\u001b[1;33m \u001b[1;32mimport\u001b[0m \u001b[0mnltk\u001b[0m\u001b[1;33m\u001b[0m\u001b[0m\n\u001b[0m\u001b[0;32m      5\u001b[0m \u001b[1;32mfrom\u001b[0m \u001b[0mnltk\u001b[0m\u001b[1;33m.\u001b[0m\u001b[0mstem\u001b[0m \u001b[1;32mimport\u001b[0m \u001b[0mSnowballStemmer\u001b[0m\u001b[1;33m\u001b[0m\u001b[0m\n\u001b[0;32m      6\u001b[0m \u001b[1;32mfrom\u001b[0m \u001b[0mnltk\u001b[0m\u001b[1;33m.\u001b[0m\u001b[0mstem\u001b[0m\u001b[1;33m.\u001b[0m\u001b[0mporter\u001b[0m \u001b[1;32mimport\u001b[0m \u001b[0mPorterStemmer\u001b[0m\u001b[1;33m\u001b[0m\u001b[0m\n",
      "\u001b[1;31mModuleNotFoundError\u001b[0m: No module named 'nltk'"
     ]
    }
   ],
   "source": []
  },
  {
   "cell_type": "code",
   "execution_count": 2,
   "metadata": {},
   "outputs": [
    {
     "name": "stdout",
     "output_type": "stream",
     "text": [
      "['BadCOVID19Takes.json', 'bpcorona.json', 'Cen10Football.json', 'CoachCorona.json', 'Corona13MX.json', 'CoronaAlchemist.json', 'CoronaCigarCo.json', 'CoronaEnglish.json', 'CoronaTools.json', 'CoronaVirusInd2.json', 'corona_alerts.json', 'Corona_Chamber.json', 'covid19nz.json', 'covidbaseau.json', 'DanielCoronaNV.json', 'ElBolsoDeLazaro.json', 'endCOVID19.json', 'FacesOfCOVID.json', 'FlareCorona.json', 'jecorona.json', 'JKJAVMY.json', 'KidCorona.json', 'lifeincorona.json', 'MarkedByCovid.json', 'NHSCOVID19app.json', 'OHdeptofhealth.json', 'OmanVSCovid19.json', 'pcoronaf.json', 'saulocorona.json', 'southhills.json', 'V2019N.json', 'vijay27anand.json', 'WendyCoronaWSB.json']\n"
     ]
    }
   ],
   "source": [
    "path_to_json = 'tweets/'\n",
    "json_files = [pos_json for pos_json in os.listdir(path_to_json) if pos_json.endswith('.json')]\n",
    "print(json_files)"
   ]
  },
  {
   "cell_type": "code",
   "execution_count": 125,
   "metadata": {},
   "outputs": [],
   "source": [
    "user_info_df = pd.DataFrame(columns= [ 'id',\n",
    "                                      'description',\n",
    "                                        'entities',\n",
    "                                        'followers_count',\n",
    "                                        'friends_count',\n",
    "                                        'lang',\n",
    "                                        'location',\n",
    "                                        'name',\n",
    "                                        'screen_name',\n",
    "                                        'statuses_count'])\n",
    "\n",
    "tweets_df = pd.DataFrame(columns=['id','tweets'])"
   ]
  },
  {
   "cell_type": "code",
   "execution_count": 126,
   "metadata": {},
   "outputs": [],
   "source": [
    "total_rows=0\n",
    "for file in json_files:\n",
    "    file = f'tweets/{file}'\n",
    "    with open(file,'r') as f:\n",
    "        data = json.loads(f.read())\n",
    "        df = pd.json_normalize(data, record_path =['tweets'], meta= list(data.keys() - ['tweets']))\n",
    "        df['entities'] = df['entities'].astype('str')\n",
    "        df.rename(columns={0:\"tweets\"}, inplace=True)\n",
    "        total_rows+=df.shape[0]\n",
    "        tweets_df = pd.concat([tweets_df,df[['id','tweets']]], ignore_index= True)\n",
    "        temp_df = df.loc[0, df.columns != 'tweets'].to_frame().transpose()\n",
    "        user_info_df=pd.concat([user_info_df,temp_df], ignore_index= True, axis=0)\n",
    "\n",
    "tweets_df.reset_index(inplace=True, drop=True)\n",
    "user_info_df.reset_index(inplace=True, drop=True)\n",
    "\n",
    "        "
   ]
  },
  {
   "cell_type": "code",
   "execution_count": 122,
   "metadata": {},
   "outputs": [
    {
     "name": "stdout",
     "output_type": "stream",
     "text": [
      "86587\n",
      "(86587, 2)\n",
      "(33, 10)\n",
      "33\n"
     ]
    }
   ],
   "source": [
    "print(total_rows)\n",
    "print(tweets_df.shape)\n",
    "print(user_info_df.shape)\n",
    "print(len(json_files))\n",
    "    "
   ]
  },
  {
   "cell_type": "code",
   "execution_count": 2,
   "metadata": {},
   "outputs": [],
   "source": [
    "data = json.load(open('tweets/bpcorona.json'))"
   ]
  },
  {
   "cell_type": "code",
   "execution_count": 7,
   "metadata": {},
   "outputs": [
    {
     "data": {
      "text/plain": [
       "{'description',\n",
       " 'entities',\n",
       " 'followers_count',\n",
       " 'friends_count',\n",
       " 'id',\n",
       " 'lang',\n",
       " 'location',\n",
       " 'name',\n",
       " 'screen_name',\n",
       " 'statuses_count'}"
      ]
     },
     "execution_count": 7,
     "metadata": {},
     "output_type": "execute_result"
    }
   ],
   "source": [
    "data.keys() - ['tweets']"
   ]
  },
  {
   "cell_type": "code",
   "execution_count": 9,
   "metadata": {},
   "outputs": [],
   "source": [
    "df_nested_list = pd.json_normalize(data, record_path =['tweets'], meta= list(data.keys() - ['tweets']))\n"
   ]
  },
  {
   "cell_type": "code",
   "execution_count": 19,
   "metadata": {},
   "outputs": [],
   "source": [
    "df_nested_list['entities'] = df_nested_list['entities'].astype('str')"
   ]
  },
  {
   "cell_type": "code",
   "execution_count": 35,
   "metadata": {},
   "outputs": [],
   "source": [
    "df_nested_list.rename(columns={0:\"tweets\"}, inplace=True)"
   ]
  },
  {
   "cell_type": "code",
   "execution_count": 109,
   "metadata": {},
   "outputs": [],
   "source": [
    "temp = df_nested_list.loc[0, df_nested_list.columns != 'tweets'].to_frame().transpose()"
   ]
  },
  {
   "cell_type": "code",
   "execution_count": 110,
   "metadata": {},
   "outputs": [
    {
     "data": {
      "text/html": [
       "<div>\n",
       "<style scoped>\n",
       "    .dataframe tbody tr th:only-of-type {\n",
       "        vertical-align: middle;\n",
       "    }\n",
       "\n",
       "    .dataframe tbody tr th {\n",
       "        vertical-align: top;\n",
       "    }\n",
       "\n",
       "    .dataframe thead th {\n",
       "        text-align: right;\n",
       "    }\n",
       "</style>\n",
       "<table border=\"1\" class=\"dataframe\">\n",
       "  <thead>\n",
       "    <tr style=\"text-align: right;\">\n",
       "      <th></th>\n",
       "      <th>statuses_count</th>\n",
       "      <th>name</th>\n",
       "      <th>screen_name</th>\n",
       "      <th>entities</th>\n",
       "      <th>lang</th>\n",
       "      <th>location</th>\n",
       "      <th>friends_count</th>\n",
       "      <th>id</th>\n",
       "      <th>description</th>\n",
       "      <th>followers_count</th>\n",
       "    </tr>\n",
       "  </thead>\n",
       "  <tbody>\n",
       "    <tr>\n",
       "      <th>0</th>\n",
       "      <td>7695</td>\n",
       "      <td>Paulette Corona</td>\n",
       "      <td>bpcorona</td>\n",
       "      <td>{'url': {'urls': [{'url': 'https://t.co/TOw5lO...</td>\n",
       "      <td>None</td>\n",
       "      <td>Mesa Arizona</td>\n",
       "      <td>1276</td>\n",
       "      <td>80918137</td>\n",
       "      <td>I love to read, and watch Supernatural, Arrow,...</td>\n",
       "      <td>446</td>\n",
       "    </tr>\n",
       "  </tbody>\n",
       "</table>\n",
       "</div>"
      ],
      "text/plain": [
       "  statuses_count             name screen_name  \\\n",
       "0           7695  Paulette Corona    bpcorona   \n",
       "\n",
       "                                            entities  lang      location  \\\n",
       "0  {'url': {'urls': [{'url': 'https://t.co/TOw5lO...  None  Mesa Arizona   \n",
       "\n",
       "  friends_count        id                                        description  \\\n",
       "0          1276  80918137  I love to read, and watch Supernatural, Arrow,...   \n",
       "\n",
       "  followers_count  \n",
       "0             446  "
      ]
     },
     "execution_count": 110,
     "metadata": {},
     "output_type": "execute_result"
    }
   ],
   "source": [
    "temp"
   ]
  },
  {
   "cell_type": "code",
   "execution_count": 111,
   "metadata": {},
   "outputs": [
    {
     "data": {
      "text/html": [
       "<div>\n",
       "<style scoped>\n",
       "    .dataframe tbody tr th:only-of-type {\n",
       "        vertical-align: middle;\n",
       "    }\n",
       "\n",
       "    .dataframe tbody tr th {\n",
       "        vertical-align: top;\n",
       "    }\n",
       "\n",
       "    .dataframe thead th {\n",
       "        text-align: right;\n",
       "    }\n",
       "</style>\n",
       "<table border=\"1\" class=\"dataframe\">\n",
       "  <thead>\n",
       "    <tr style=\"text-align: right;\">\n",
       "      <th></th>\n",
       "      <th>description</th>\n",
       "      <th>entities</th>\n",
       "      <th>followers_count</th>\n",
       "      <th>friends_count</th>\n",
       "      <th>id</th>\n",
       "      <th>lang</th>\n",
       "      <th>location</th>\n",
       "      <th>name</th>\n",
       "      <th>screen_name</th>\n",
       "      <th>statuses_count</th>\n",
       "    </tr>\n",
       "  </thead>\n",
       "  <tbody>\n",
       "    <tr>\n",
       "      <th>0</th>\n",
       "      <td>I love to read, and watch Supernatural, Arrow,...</td>\n",
       "      <td>{'url': {'urls': [{'url': 'https://t.co/TOw5lO...</td>\n",
       "      <td>446</td>\n",
       "      <td>1276</td>\n",
       "      <td>80918137</td>\n",
       "      <td>None</td>\n",
       "      <td>Mesa Arizona</td>\n",
       "      <td>Paulette Corona</td>\n",
       "      <td>bpcorona</td>\n",
       "      <td>7695</td>\n",
       "    </tr>\n",
       "  </tbody>\n",
       "</table>\n",
       "</div>"
      ],
      "text/plain": [
       "                                         description  \\\n",
       "0  I love to read, and watch Supernatural, Arrow,...   \n",
       "\n",
       "                                            entities followers_count  \\\n",
       "0  {'url': {'urls': [{'url': 'https://t.co/TOw5lO...             446   \n",
       "\n",
       "  friends_count        id  lang      location             name screen_name  \\\n",
       "0          1276  80918137  None  Mesa Arizona  Paulette Corona    bpcorona   \n",
       "\n",
       "  statuses_count  \n",
       "0           7695  "
      ]
     },
     "execution_count": 111,
     "metadata": {},
     "output_type": "execute_result"
    }
   ],
   "source": [
    "user_info_df=pd.concat([user_info_df,temp], ignore_index= True, axis=0)\n",
    "user_info_df"
   ]
  },
  {
   "cell_type": "code",
   "execution_count": 118,
   "metadata": {},
   "outputs": [
    {
     "data": {
      "text/html": [
       "<div>\n",
       "<style scoped>\n",
       "    .dataframe tbody tr th:only-of-type {\n",
       "        vertical-align: middle;\n",
       "    }\n",
       "\n",
       "    .dataframe tbody tr th {\n",
       "        vertical-align: top;\n",
       "    }\n",
       "\n",
       "    .dataframe thead th {\n",
       "        text-align: right;\n",
       "    }\n",
       "</style>\n",
       "<table border=\"1\" class=\"dataframe\">\n",
       "  <thead>\n",
       "    <tr style=\"text-align: right;\">\n",
       "      <th></th>\n",
       "      <th>description</th>\n",
       "      <th>entities</th>\n",
       "      <th>followers_count</th>\n",
       "      <th>friends_count</th>\n",
       "      <th>id</th>\n",
       "      <th>lang</th>\n",
       "      <th>location</th>\n",
       "      <th>name</th>\n",
       "      <th>screen_name</th>\n",
       "      <th>statuses_count</th>\n",
       "    </tr>\n",
       "  </thead>\n",
       "  <tbody>\n",
       "    <tr>\n",
       "      <th>0</th>\n",
       "      <td>Stunningly bad COVID-19 takes. Inspired by @Ba...</td>\n",
       "      <td>{'description': {'urls': [{'url': 'https://t.c...</td>\n",
       "      <td>125830</td>\n",
       "      <td>561</td>\n",
       "      <td>1244083799274766342</td>\n",
       "      <td>None</td>\n",
       "      <td></td>\n",
       "      <td>Bad COVID-19 Takes</td>\n",
       "      <td>BadCOVID19Takes</td>\n",
       "      <td>6451</td>\n",
       "    </tr>\n",
       "    <tr>\n",
       "      <th>1</th>\n",
       "      <td>I love to read, and watch Supernatural, Arrow,...</td>\n",
       "      <td>{'url': {'urls': [{'url': 'https://t.co/TOw5lO...</td>\n",
       "      <td>446</td>\n",
       "      <td>1276</td>\n",
       "      <td>80918137</td>\n",
       "      <td>None</td>\n",
       "      <td>Mesa Arizona</td>\n",
       "      <td>Paulette Corona</td>\n",
       "      <td>bpcorona</td>\n",
       "      <td>7695</td>\n",
       "    </tr>\n",
       "    <tr>\n",
       "      <th>2</th>\n",
       "      <td>Official Twitter account of the Corona Centenn...</td>\n",
       "      <td>{'url': {'urls': [{'url': 'https://t.co/PEaBqO...</td>\n",
       "      <td>5919</td>\n",
       "      <td>1110</td>\n",
       "      <td>3006912204</td>\n",
       "      <td>None</td>\n",
       "      <td>Corona, CA</td>\n",
       "      <td>Corona Centennial FB</td>\n",
       "      <td>Cen10Football</td>\n",
       "      <td>6445</td>\n",
       "    </tr>\n",
       "  </tbody>\n",
       "</table>\n",
       "</div>"
      ],
      "text/plain": [
       "                                         description  \\\n",
       "0  Stunningly bad COVID-19 takes. Inspired by @Ba...   \n",
       "1  I love to read, and watch Supernatural, Arrow,...   \n",
       "2  Official Twitter account of the Corona Centenn...   \n",
       "\n",
       "                                            entities followers_count  \\\n",
       "0  {'description': {'urls': [{'url': 'https://t.c...          125830   \n",
       "1  {'url': {'urls': [{'url': 'https://t.co/TOw5lO...             446   \n",
       "2  {'url': {'urls': [{'url': 'https://t.co/PEaBqO...            5919   \n",
       "\n",
       "  friends_count                   id  lang      location  \\\n",
       "0           561  1244083799274766342  None                 \n",
       "1          1276             80918137  None  Mesa Arizona   \n",
       "2          1110           3006912204  None    Corona, CA   \n",
       "\n",
       "                   name       screen_name statuses_count  \n",
       "0    Bad COVID-19 Takes   BadCOVID19Takes           6451  \n",
       "1       Paulette Corona          bpcorona           7695  \n",
       "2  Corona Centennial FB     Cen10Football           6445  "
      ]
     },
     "execution_count": 118,
     "metadata": {},
     "output_type": "execute_result"
    }
   ],
   "source": [
    "user_info_df"
   ]
  },
  {
   "cell_type": "code",
   "execution_count": 81,
   "metadata": {},
   "outputs": [
    {
     "data": {
      "text/plain": [
       "pandas.core.series.Series"
      ]
     },
     "execution_count": 81,
     "metadata": {},
     "output_type": "execute_result"
    }
   ],
   "source": [
    "type(df_nested_list.loc[0, df_nested_list.columns != 'tweets'])"
   ]
  },
  {
   "cell_type": "code",
   "execution_count": 128,
   "metadata": {},
   "outputs": [],
   "source": [
    "user_info_df.to_csv('user_info.csv', index=False)\n",
    "tweets_df.to_csv('tweets.csv', index= False)"
   ]
  },
  {
   "cell_type": "code",
   "execution_count": 2,
   "metadata": {},
   "outputs": [
    {
     "data": {
      "text/html": [
       "<div>\n",
       "<style scoped>\n",
       "    .dataframe tbody tr th:only-of-type {\n",
       "        vertical-align: middle;\n",
       "    }\n",
       "\n",
       "    .dataframe tbody tr th {\n",
       "        vertical-align: top;\n",
       "    }\n",
       "\n",
       "    .dataframe thead th {\n",
       "        text-align: right;\n",
       "    }\n",
       "</style>\n",
       "<table border=\"1\" class=\"dataframe\">\n",
       "  <thead>\n",
       "    <tr style=\"text-align: right;\">\n",
       "      <th></th>\n",
       "      <th>Country (mentioned)</th>\n",
       "      <th>Review Date</th>\n",
       "      <th>Claim</th>\n",
       "      <th>Source</th>\n",
       "      <th>Label</th>\n",
       "      <th>Fact-checked Article</th>\n",
       "    </tr>\n",
       "  </thead>\n",
       "  <tbody>\n",
       "    <tr>\n",
       "      <th>0</th>\n",
       "      <td>Germany</td>\n",
       "      <td>Oct 15, 2021</td>\n",
       "      <td>A video is circulating on the Internet claimin...</td>\n",
       "      <td>person</td>\n",
       "      <td>0</td>\n",
       "      <td>https://dpa-factchecking.com/germany/201015-99...</td>\n",
       "    </tr>\n",
       "    <tr>\n",
       "      <th>1</th>\n",
       "      <td>United States</td>\n",
       "      <td>Sep 17, 2021</td>\n",
       "      <td>Vice President Kamala Harris \"admits\" that COV...</td>\n",
       "      <td>website</td>\n",
       "      <td>0</td>\n",
       "      <td>https://leadstories.com/hoax-alert/2021/09/fac...</td>\n",
       "    </tr>\n",
       "    <tr>\n",
       "      <th>2</th>\n",
       "      <td>United States</td>\n",
       "      <td>Sep 17, 2021</td>\n",
       "      <td>US to withhold benefits from unvaccinated vete...</td>\n",
       "      <td>multiple people</td>\n",
       "      <td>0</td>\n",
       "      <td>https://factcheck.afp.com/http%253A%252F%252Fd...</td>\n",
       "    </tr>\n",
       "    <tr>\n",
       "      <th>3</th>\n",
       "      <td>United States</td>\n",
       "      <td>Sep 17, 2021</td>\n",
       "      <td>U.S. President Joe Biden said that the COVID-1...</td>\n",
       "      <td>No data</td>\n",
       "      <td>0</td>\n",
       "      <td>https://www.snopes.com/fact-check/biden-vaccin...</td>\n",
       "    </tr>\n",
       "    <tr>\n",
       "      <th>4</th>\n",
       "      <td>Canada</td>\n",
       "      <td>Sep 16, 2021</td>\n",
       "      <td>customers will be required to provide ID and p...</td>\n",
       "      <td>facebook</td>\n",
       "      <td>0</td>\n",
       "      <td>http://checkyourfact.com/2021/09/16/fact-check...</td>\n",
       "    </tr>\n",
       "  </tbody>\n",
       "</table>\n",
       "</div>"
      ],
      "text/plain": [
       "  Country (mentioned)   Review Date  \\\n",
       "0             Germany  Oct 15, 2021   \n",
       "1       United States  Sep 17, 2021   \n",
       "2       United States  Sep 17, 2021   \n",
       "3       United States  Sep 17, 2021   \n",
       "4              Canada  Sep 16, 2021   \n",
       "\n",
       "                                               Claim           Source  Label  \\\n",
       "0  A video is circulating on the Internet claimin...           person      0   \n",
       "1  Vice President Kamala Harris \"admits\" that COV...          website      0   \n",
       "2  US to withhold benefits from unvaccinated vete...  multiple people      0   \n",
       "3  U.S. President Joe Biden said that the COVID-1...          No data      0   \n",
       "4  customers will be required to provide ID and p...         facebook      0   \n",
       "\n",
       "                                Fact-checked Article  \n",
       "0  https://dpa-factchecking.com/germany/201015-99...  \n",
       "1  https://leadstories.com/hoax-alert/2021/09/fac...  \n",
       "2  https://factcheck.afp.com/http%253A%252F%252Fd...  \n",
       "3  https://www.snopes.com/fact-check/biden-vaccin...  \n",
       "4  http://checkyourfact.com/2021/09/16/fact-check...  "
      ]
     },
     "execution_count": 2,
     "metadata": {},
     "output_type": "execute_result"
    }
   ],
   "source": [
    "df = pd.read_csv(\"train.csv\")\n",
    "df.head()"
   ]
  },
  {
   "cell_type": "code",
   "execution_count": 5,
   "metadata": {},
   "outputs": [
    {
     "data": {
      "text/plain": [
       "1591"
      ]
     },
     "execution_count": 5,
     "metadata": {},
     "output_type": "execute_result"
    }
   ],
   "source": [
    "df['Claim_len'] = df['Claim'].apply(len)"
   ]
  },
  {
   "cell_type": "code",
   "execution_count": 8,
   "metadata": {},
   "outputs": [
    {
     "data": {
      "text/plain": [
       "Country (mentioned)     0\n",
       "Review Date             0\n",
       "Claim                   0\n",
       "Source                  0\n",
       "Label                   0\n",
       "Fact-checked Article    0\n",
       "Claim_len               0\n",
       "dtype: int64"
      ]
     },
     "execution_count": 8,
     "metadata": {},
     "output_type": "execute_result"
    }
   ],
   "source": [
    "df.isnull().sum()"
   ]
  },
  {
   "cell_type": "code",
   "execution_count": 9,
   "metadata": {},
   "outputs": [],
   "source": [
    "df = pd.read_csv('preprocessed_claims.csv')"
   ]
  },
  {
   "cell_type": "code",
   "execution_count": 13,
   "metadata": {},
   "outputs": [],
   "source": [
    "pd.options.display.max_colwidth =2000"
   ]
  },
  {
   "cell_type": "code",
   "execution_count": 14,
   "metadata": {},
   "outputs": [
    {
     "data": {
      "text/html": [
       "<div>\n",
       "<style scoped>\n",
       "    .dataframe tbody tr th:only-of-type {\n",
       "        vertical-align: middle;\n",
       "    }\n",
       "\n",
       "    .dataframe tbody tr th {\n",
       "        vertical-align: top;\n",
       "    }\n",
       "\n",
       "    .dataframe thead th {\n",
       "        text-align: right;\n",
       "    }\n",
       "</style>\n",
       "<table border=\"1\" class=\"dataframe\">\n",
       "  <thead>\n",
       "    <tr style=\"text-align: right;\">\n",
       "      <th></th>\n",
       "      <th>Claim</th>\n",
       "      <th>clean_claims</th>\n",
       "    </tr>\n",
       "  </thead>\n",
       "  <tbody>\n",
       "    <tr>\n",
       "      <th>0</th>\n",
       "      <td>A video is circulating on the Internet claiming that masks used to contain the corona pandemic are harmful to health (archived here). \"When we breathe back our exhaled air, there is an inevitable lack of oxygen and a flooding of carbon dioxide,\" it says (from minute 3:10). Such a deficiency harms the brain and inhibits its development. For children and young people in particular, masks are an absolute “no-no” (8:50). Because the resulting damage cannot be reversed, warns the woman in the video. She describes herself as a neurologist and claims to work in Germany and London.</td>\n",
       "      <td>video is circulating on the internet claiming that masks used to contain the corona pandemic are harmful to health archived here when we breathe back our exhaled air there is an inevitable lack of oxygen and flooding of carbon dioxide it says from minute such deficiency harms the brain and inhibits its development for children and young people in particular masks are an absolute no no because the resulting damage cannot be reversed warns the woman in the video she describes herself as neurologist and claims to work in germany and london</td>\n",
       "    </tr>\n",
       "    <tr>\n",
       "      <th>1</th>\n",
       "      <td>Vice President Kamala Harris \"admits\" that COVID vaccines don't work.</td>\n",
       "      <td>vice president kamala harris admits that covid vaccines dont work</td>\n",
       "    </tr>\n",
       "    <tr>\n",
       "      <th>2</th>\n",
       "      <td>US to withhold benefits from unvaccinated veterans</td>\n",
       "      <td>us to withhold benefits from unvaccinated veterans</td>\n",
       "    </tr>\n",
       "    <tr>\n",
       "      <th>3</th>\n",
       "      <td>U.S. President Joe Biden said that the COVID-19 vaccine would protect people against hurricanes.</td>\n",
       "      <td>president joe biden said that the covid vaccine would protect people against hurricanes</td>\n",
       "    </tr>\n",
       "    <tr>\n",
       "      <th>4</th>\n",
       "      <td>customers will be required to provide ID and proof of COVID-19 vaccination to enter all Walmart stores in Canada starting Nov. 1</td>\n",
       "      <td>customers will be required to provide id and proof of covid vaccination to enter all walmart stores in canada starting nov</td>\n",
       "    </tr>\n",
       "  </tbody>\n",
       "</table>\n",
       "</div>"
      ],
      "text/plain": [
       "                                                                                                                                                                                                                                                                                                                                                                                                                                                                                                                                                                                                  Claim  \\\n",
       "0  A video is circulating on the Internet claiming that masks used to contain the corona pandemic are harmful to health (archived here). \"When we breathe back our exhaled air, there is an inevitable lack of oxygen and a flooding of carbon dioxide,\" it says (from minute 3:10). Such a deficiency harms the brain and inhibits its development. For children and young people in particular, masks are an absolute “no-no” (8:50). Because the resulting damage cannot be reversed, warns the woman in the video. She describes herself as a neurologist and claims to work in Germany and London.   \n",
       "1                                                                                                                                                                                                                                                                                                                                                                                                                                                                                                                                 Vice President Kamala Harris \"admits\" that COVID vaccines don't work.   \n",
       "2                                                                                                                                                                                                                                                                                                                                                                                                                                                                                                                                                    US to withhold benefits from unvaccinated veterans   \n",
       "3                                                                                                                                                                                                                                                                                                                                                                                                                                                                                                      U.S. President Joe Biden said that the COVID-19 vaccine would protect people against hurricanes.   \n",
       "4                                                                                                                                                                                                                                                                                                                                                                                                                                                                      customers will be required to provide ID and proof of COVID-19 vaccination to enter all Walmart stores in Canada starting Nov. 1   \n",
       "\n",
       "                                                                                                                                                                                                                                                                                                                                                                                                                                                                                                                                                     clean_claims  \n",
       "0  video is circulating on the internet claiming that masks used to contain the corona pandemic are harmful to health archived here when we breathe back our exhaled air there is an inevitable lack of oxygen and flooding of carbon dioxide it says from minute such deficiency harms the brain and inhibits its development for children and young people in particular masks are an absolute no no because the resulting damage cannot be reversed warns the woman in the video she describes herself as neurologist and claims to work in germany and london  \n",
       "1                                                                                                                                                                                                                                                                                                                                                                                                                                                                                               vice president kamala harris admits that covid vaccines dont work  \n",
       "2                                                                                                                                                                                                                                                                                                                                                                                                                                                                                                              us to withhold benefits from unvaccinated veterans  \n",
       "3                                                                                                                                                                                                                                                                                                                                                                                                                                                                         president joe biden said that the covid vaccine would protect people against hurricanes  \n",
       "4                                                                                                                                                                                                                                                                                                                                                                                                                                      customers will be required to provide id and proof of covid vaccination to enter all walmart stores in canada starting nov  "
      ]
     },
     "execution_count": 14,
     "metadata": {},
     "output_type": "execute_result"
    }
   ],
   "source": [
    "df[['Claim','clean_claims']].head()"
   ]
  },
  {
   "cell_type": "code",
   "execution_count": null,
   "metadata": {},
   "outputs": [],
   "source": [
    "def stem_tokens(tokens, stemmer):\n",
    "    stemmed = []\n",
    "    for token in tokens:\n",
    "        stemmed.append(stemmer.stem(token))\n",
    "    return stemmed\n",
    "\n",
    "#process the data\n",
    "def process_data(data,exclude_stopword=True,stem=True):\n",
    "    tokens = [w.lower() for w in data]\n",
    "    tokens_stemmed = tokens\n",
    "    tokens_stemmed = stem_tokens(tokens, eng_stemmer)\n",
    "    tokens_stemmed = [w for w in tokens_stemmed if w not in stopwords ]\n",
    "    return tokens_stemmed"
   ]
  }
 ],
 "metadata": {
  "interpreter": {
   "hash": "04635d289a519a1410467dd0afb0db42f9184808881ca68b2eb5a687a20a5a94"
  },
  "kernelspec": {
   "display_name": "Python 3.7.0 64-bit",
   "language": "python",
   "name": "python3"
  },
  "language_info": {
   "codemirror_mode": {
    "name": "ipython",
    "version": 3
   },
   "file_extension": ".py",
   "mimetype": "text/x-python",
   "name": "python",
   "nbconvert_exporter": "python",
   "pygments_lexer": "ipython3",
   "version": "3.7.0"
  },
  "orig_nbformat": 4
 },
 "nbformat": 4,
 "nbformat_minor": 2
}
